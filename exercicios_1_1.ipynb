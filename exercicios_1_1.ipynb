{
  "cells": [
    {
      "cell_type": "markdown",
      "metadata": {
        "id": "view-in-github",
        "colab_type": "text"
      },
      "source": [
        "<a href=\"https://colab.research.google.com/github/wellingtonsouza32/Python_MaterialEstudo/blob/master/exercicios_1_1.ipynb\" target=\"_parent\"><img src=\"https://colab.research.google.com/assets/colab-badge.svg\" alt=\"Open In Colab\"/></a>"
      ]
    },
    {
      "cell_type": "markdown",
      "id": "356cb35d",
      "metadata": {
        "heading_collapsed": true,
        "id": "356cb35d"
      },
      "source": [
        "# Exercício 1.0"
      ]
    },
    {
      "cell_type": "markdown",
      "id": "96a0f0d7",
      "metadata": {
        "heading_collapsed": true,
        "hidden": true,
        "id": "96a0f0d7"
      },
      "source": [
        "## Problema"
      ]
    },
    {
      "cell_type": "markdown",
      "id": "e9e8107f",
      "metadata": {
        "ExecuteTime": {
          "end_time": "2021-09-23T01:15:31.266217Z",
          "start_time": "2021-09-23T01:15:31.260904Z"
        },
        "hidden": true,
        "id": "e9e8107f"
      },
      "source": [
        "Em uma loja e CD´s existem apenas quatro tipos de preços que estão associados a cores. Assim os CD´s que ficam na loja não são marcados por preços e sim por cores. \n",
        "\n",
        "Desenvolva uma aplicação que receba como entrada a cor do CD e mostre o preço. A loja está atualmente com a seguinte tabela de preços.\n",
        "\n",
        "| Cor | Preço|\n",
        "| :-: | :--: |\n",
        "| Verde    | R\\$ 10,00 |\n",
        "| Azul     | R\\$ 20,00 |\n",
        "| Amarelo  | R\\$ 30,00 |\n",
        "| Vermelho | R\\$ 40,00 |"
      ]
    },
    {
      "cell_type": "markdown",
      "id": "719448b9",
      "metadata": {
        "heading_collapsed": true,
        "hidden": true,
        "id": "719448b9"
      },
      "source": [
        "## Resolução e Resposta"
      ]
    },
    {
      "cell_type": "code",
      "execution_count": 5,
      "id": "13a59a4f",
      "metadata": {
        "ExecuteTime": {
          "end_time": "2021-09-26T21:33:34.808097Z",
          "start_time": "2021-09-26T21:33:34.805732Z"
        },
        "hidden": true,
        "colab": {
          "base_uri": "https://localhost:8080/"
        },
        "id": "13a59a4f",
        "outputId": "620132c3-daf6-429f-9154-f9c40016c04b"
      },
      "outputs": [
        {
          "output_type": "stream",
          "name": "stdout",
          "text": [
            "Digite qual a cor do CD nariz\n",
            "A Cor a ser digitada não é válida\n"
          ]
        }
      ],
      "source": [
        "cor = str(input('Digite qual a cor do CD ').lower())\n",
        "if cor == 'verde':\n",
        "  print('O Valor a ser pago é 10')\n",
        "elif cor == 'azul':\n",
        "  print('O Valor a ser pago é 20')\n",
        "elif cor == 'amarelo':\n",
        "  print('O Valor a ser pago é 30')\n",
        "elif cor == 'vermelho':\n",
        "  print('O Valor a ser pago é 40')\n",
        "else:\n",
        "  print('A Cor digitada não é válida')"
      ]
    },
    {
      "cell_type": "markdown",
      "id": "96ad9c04",
      "metadata": {
        "id": "96ad9c04"
      },
      "source": [
        "# Exercício 2.0"
      ]
    },
    {
      "cell_type": "markdown",
      "id": "1e06d3df",
      "metadata": {
        "id": "1e06d3df"
      },
      "source": [
        "## Problema"
      ]
    },
    {
      "cell_type": "markdown",
      "id": "fc746ae5",
      "metadata": {
        "ExecuteTime": {
          "end_time": "2021-09-26T21:34:24.080327Z",
          "start_time": "2021-09-26T21:34:24.070512Z"
        },
        "id": "fc746ae5"
      },
      "source": [
        "Uma empresa decidiu dar uma gratificação de Natal a seus funcionários, baseada no número de horas extras e no número de horas que o funcionário faltou ao trabalho. O valor do prêmio é obtido pela consulta na tabela a seguir, em que:"
      ]
    },
    {
      "cell_type": "markdown",
      "id": "4450eac5",
      "metadata": {
        "id": "4450eac5"
      },
      "source": [
        "$$ H = (horas\\_extras) - 2/3 * (horas\\_falta) $$"
      ]
    },
    {
      "cell_type": "markdown",
      "id": "2217fdc7",
      "metadata": {
        "id": "2217fdc7"
      },
      "source": [
        "| H | Gratificação |\n",
        "| :-: | :--------: |\n",
        "| Maior que 2400 | R\\$ 500,00 |\n",
        "| 1801 até 2400  | R\\$ 400,00 |\n",
        "| 1201 até 1800  | R\\$ 300,00 | \n",
        "| 600 até 1200   | R\\$ 200,00 |\n",
        "| Menor que 600  | R\\$ 100,00 |"
      ]
    },
    {
      "cell_type": "markdown",
      "id": "aa919e41",
      "metadata": {
        "id": "aa919e41"
      },
      "source": [
        "Faça uma aplicação que receba o número de horas extras e o número de horas-falta de um funcionário e imprima o valor de sua gratificação."
      ]
    },
    {
      "cell_type": "code",
      "execution_count": 6,
      "id": "eaaeeeb6",
      "metadata": {
        "ExecuteTime": {
          "end_time": "2022-04-04T19:48:59.473111Z",
          "start_time": "2022-04-04T19:48:55.718630Z"
        },
        "colab": {
          "base_uri": "https://localhost:8080/",
          "height": 328
        },
        "id": "eaaeeeb6",
        "outputId": "6840c158-6624-49e1-9be3-61cecbabfc70"
      },
      "outputs": [
        {
          "output_type": "error",
          "ename": "KeyboardInterrupt",
          "evalue": "ignored",
          "traceback": [
            "\u001b[0;31m---------------------------------------------------------------------------\u001b[0m",
            "\u001b[0;31mKeyboardInterrupt\u001b[0m                         Traceback (most recent call last)",
            "\u001b[0;32m<ipython-input-6-a88aef0e5f2b>\u001b[0m in \u001b[0;36m<module>\u001b[0;34m\u001b[0m\n\u001b[0;32m----> 1\u001b[0;31m \u001b[0mhoras_extras\u001b[0m \u001b[0;34m=\u001b[0m \u001b[0mint\u001b[0m\u001b[0;34m(\u001b[0m\u001b[0minput\u001b[0m\u001b[0;34m(\u001b[0m\u001b[0;34m'Digite a quantidade de horas extras: '\u001b[0m\u001b[0;34m)\u001b[0m\u001b[0;34m)\u001b[0m\u001b[0;34m\u001b[0m\u001b[0;34m\u001b[0m\u001b[0m\n\u001b[0m\u001b[1;32m      2\u001b[0m \u001b[0mhoras_faltantes\u001b[0m \u001b[0;34m=\u001b[0m \u001b[0mint\u001b[0m\u001b[0;34m(\u001b[0m\u001b[0minput\u001b[0m\u001b[0;34m(\u001b[0m\u001b[0;34m'Digite a quantidade de horas faltantes: '\u001b[0m\u001b[0;34m)\u001b[0m\u001b[0;34m)\u001b[0m\u001b[0;34m\u001b[0m\u001b[0;34m\u001b[0m\u001b[0m\n",
            "\u001b[0;32m/usr/local/lib/python3.7/dist-packages/ipykernel/kernelbase.py\u001b[0m in \u001b[0;36mraw_input\u001b[0;34m(self, prompt)\u001b[0m\n\u001b[1;32m    861\u001b[0m             \u001b[0mself\u001b[0m\u001b[0;34m.\u001b[0m\u001b[0m_parent_ident\u001b[0m\u001b[0;34m,\u001b[0m\u001b[0;34m\u001b[0m\u001b[0;34m\u001b[0m\u001b[0m\n\u001b[1;32m    862\u001b[0m             \u001b[0mself\u001b[0m\u001b[0;34m.\u001b[0m\u001b[0m_parent_header\u001b[0m\u001b[0;34m,\u001b[0m\u001b[0;34m\u001b[0m\u001b[0;34m\u001b[0m\u001b[0m\n\u001b[0;32m--> 863\u001b[0;31m             \u001b[0mpassword\u001b[0m\u001b[0;34m=\u001b[0m\u001b[0;32mFalse\u001b[0m\u001b[0;34m,\u001b[0m\u001b[0;34m\u001b[0m\u001b[0;34m\u001b[0m\u001b[0m\n\u001b[0m\u001b[1;32m    864\u001b[0m         )\n\u001b[1;32m    865\u001b[0m \u001b[0;34m\u001b[0m\u001b[0m\n",
            "\u001b[0;32m/usr/local/lib/python3.7/dist-packages/ipykernel/kernelbase.py\u001b[0m in \u001b[0;36m_input_request\u001b[0;34m(self, prompt, ident, parent, password)\u001b[0m\n\u001b[1;32m    902\u001b[0m             \u001b[0;32mexcept\u001b[0m \u001b[0mKeyboardInterrupt\u001b[0m\u001b[0;34m:\u001b[0m\u001b[0;34m\u001b[0m\u001b[0;34m\u001b[0m\u001b[0m\n\u001b[1;32m    903\u001b[0m                 \u001b[0;31m# re-raise KeyboardInterrupt, to truncate traceback\u001b[0m\u001b[0;34m\u001b[0m\u001b[0;34m\u001b[0m\u001b[0;34m\u001b[0m\u001b[0m\n\u001b[0;32m--> 904\u001b[0;31m                 \u001b[0;32mraise\u001b[0m \u001b[0mKeyboardInterrupt\u001b[0m\u001b[0;34m(\u001b[0m\u001b[0;34m\"Interrupted by user\"\u001b[0m\u001b[0;34m)\u001b[0m \u001b[0;32mfrom\u001b[0m \u001b[0;32mNone\u001b[0m\u001b[0;34m\u001b[0m\u001b[0;34m\u001b[0m\u001b[0m\n\u001b[0m\u001b[1;32m    905\u001b[0m             \u001b[0;32mexcept\u001b[0m \u001b[0mException\u001b[0m \u001b[0;32mas\u001b[0m \u001b[0me\u001b[0m\u001b[0;34m:\u001b[0m\u001b[0;34m\u001b[0m\u001b[0;34m\u001b[0m\u001b[0m\n\u001b[1;32m    906\u001b[0m                 \u001b[0mself\u001b[0m\u001b[0;34m.\u001b[0m\u001b[0mlog\u001b[0m\u001b[0;34m.\u001b[0m\u001b[0mwarning\u001b[0m\u001b[0;34m(\u001b[0m\u001b[0;34m\"Invalid Message:\"\u001b[0m\u001b[0;34m,\u001b[0m \u001b[0mexc_info\u001b[0m\u001b[0;34m=\u001b[0m\u001b[0;32mTrue\u001b[0m\u001b[0;34m)\u001b[0m\u001b[0;34m\u001b[0m\u001b[0;34m\u001b[0m\u001b[0m\n",
            "\u001b[0;31mKeyboardInterrupt\u001b[0m: Interrupted by user"
          ]
        }
      ],
      "source": [
        "horas_extras = int(input('Digite a quantidade de horas extras:'))\n",
        "horas_faltantes = int(input('Digite a quantidade de horas faltantes:'))"
      ]
    },
    {
      "cell_type": "code",
      "execution_count": null,
      "id": "1a763cd8",
      "metadata": {
        "ExecuteTime": {
          "end_time": "2022-04-04T19:49:00.054432Z",
          "start_time": "2022-04-04T19:49:00.049979Z"
        },
        "id": "1a763cd8",
        "outputId": "9e471c6e-1def-45ee-beee-aef65e93714a"
      },
      "outputs": [
        {
          "data": {
            "text/plain": [
              "2000"
            ]
          },
          "execution_count": 35,
          "metadata": {},
          "output_type": "execute_result"
        }
      ],
      "source": [
        "horas_extras"
      ]
    },
    {
      "cell_type": "code",
      "execution_count": null,
      "id": "674a3a57",
      "metadata": {
        "ExecuteTime": {
          "end_time": "2022-04-04T19:49:00.287315Z",
          "start_time": "2022-04-04T19:49:00.283049Z"
        },
        "id": "674a3a57",
        "outputId": "41ae1a21-826e-48ec-bef8-84b3bf0b5912"
      },
      "outputs": [
        {
          "data": {
            "text/plain": [
              "500"
            ]
          },
          "execution_count": 36,
          "metadata": {},
          "output_type": "execute_result"
        }
      ],
      "source": [
        "horas_faltantes"
      ]
    },
    {
      "cell_type": "code",
      "execution_count": null,
      "id": "36261328",
      "metadata": {
        "id": "36261328"
      },
      "outputs": [],
      "source": [
        "(ℎ𝑜𝑟𝑎𝑠_𝑒𝑥𝑡𝑟𝑎𝑠)−2/3∗(ℎ𝑜𝑟𝑎𝑠_𝑓𝑎𝑙𝑡𝑎)"
      ]
    },
    {
      "cell_type": "code",
      "execution_count": null,
      "id": "0da76926",
      "metadata": {
        "id": "0da76926"
      },
      "outputs": [],
      "source": [
        "horas_extras -  2 / 3 * horas_faltantes "
      ]
    },
    {
      "cell_type": "code",
      "execution_count": null,
      "id": "d871322c",
      "metadata": {
        "id": "d871322c"
      },
      "outputs": [],
      "source": []
    },
    {
      "cell_type": "code",
      "execution_count": null,
      "id": "c721833c",
      "metadata": {
        "id": "c721833c"
      },
      "outputs": [],
      "source": []
    },
    {
      "cell_type": "code",
      "execution_count": null,
      "id": "adb7a6b7",
      "metadata": {
        "ExecuteTime": {
          "end_time": "2022-04-04T19:44:30.778497Z",
          "start_time": "2022-04-04T19:44:30.775070Z"
        },
        "id": "adb7a6b7",
        "outputId": "5a2d276e-7d28-4eba-8e1d-fb88db98d7c9"
      },
      "outputs": [
        {
          "name": "stdout",
          "output_type": "stream",
          "text": [
            "R$ 200,00\n"
          ]
        }
      ],
      "source": [
        "\n",
        "# Maior que 2400\tR$ 500,00\n",
        "if h > 2400:\n",
        "    print(f'R$ 500,00')\n",
        "    \n",
        "# 1801 até 2400\tR$ 400,00\n",
        "#       1801 <= h <= 2400\n",
        "elif h >= 1801 and h <= 2400:\n",
        "    print(f'R$ 400,00')\n",
        "    \n",
        "# 1201 até 1800\tR$ 300,00\n",
        "elif h >= 1201 and h <= 1800:\n",
        "    print(f'R$ 300,00')\n",
        "    \n",
        "# 600 até 1200\tR$ 200,00\n",
        "elif h >= 600 and h <= 1200:\n",
        "    print(f'R$ 200,00')\n",
        "    \n",
        "# Menor que 600\tR$ 100,00\n",
        "else:\n",
        "    print(f'R$ 100,00')"
      ]
    },
    {
      "cell_type": "code",
      "execution_count": null,
      "id": "86cf1b6a",
      "metadata": {
        "id": "86cf1b6a"
      },
      "outputs": [],
      "source": [
        "h 500 1000"
      ]
    },
    {
      "cell_type": "code",
      "execution_count": null,
      "id": "be3709f1",
      "metadata": {
        "id": "be3709f1"
      },
      "outputs": [],
      "source": [
        "1800, 1801, ..., 2400, 2401"
      ]
    },
    {
      "cell_type": "code",
      "execution_count": null,
      "id": "4b2c12d7",
      "metadata": {
        "id": "4b2c12d7"
      },
      "outputs": [],
      "source": [
        "[2, 10[\n",
        "    \n",
        "2, 3, 4, 5, 6, 7, 8, 9"
      ]
    },
    {
      "cell_type": "code",
      "execution_count": null,
      "id": "b01ecb6f",
      "metadata": {
        "ExecuteTime": {
          "end_time": "2022-04-04T19:21:35.254369Z",
          "start_time": "2022-04-04T19:21:35.251976Z"
        },
        "id": "b01ecb6f"
      },
      "outputs": [],
      "source": [
        "idade = 16\n",
        "nome = 'Pedro'"
      ]
    },
    {
      "cell_type": "code",
      "execution_count": null,
      "id": "0917d841",
      "metadata": {
        "ExecuteTime": {
          "end_time": "2022-04-04T19:22:06.765281Z",
          "start_time": "2022-04-04T19:22:06.761939Z"
        },
        "id": "0917d841",
        "outputId": "ec1da160-76c2-4b4c-acdf-48ad5f7d348e"
      },
      "outputs": [
        {
          "name": "stdout",
          "output_type": "stream",
          "text": [
            "Verdadeiro\n"
          ]
        }
      ],
      "source": [
        "if idade > 18 or nome == 'Pedro':\n",
        "    print('Verdadeiro')"
      ]
    },
    {
      "cell_type": "code",
      "execution_count": null,
      "id": "d79b420a",
      "metadata": {
        "id": "d79b420a"
      },
      "outputs": [],
      "source": [
        "operador logico"
      ]
    },
    {
      "cell_type": "code",
      "execution_count": null,
      "id": "db390e4d",
      "metadata": {
        "id": "db390e4d"
      },
      "outputs": [],
      "source": []
    },
    {
      "cell_type": "code",
      "execution_count": null,
      "id": "c79a8b49",
      "metadata": {
        "id": "c79a8b49"
      },
      "outputs": [],
      "source": []
    },
    {
      "cell_type": "code",
      "execution_count": null,
      "id": "63a6b038",
      "metadata": {
        "id": "63a6b038"
      },
      "outputs": [],
      "source": []
    },
    {
      "cell_type": "code",
      "execution_count": null,
      "id": "e27eaa45",
      "metadata": {
        "id": "e27eaa45"
      },
      "outputs": [],
      "source": []
    },
    {
      "cell_type": "markdown",
      "id": "ad401bca",
      "metadata": {
        "ExecuteTime": {
          "end_time": "2021-09-23T01:18:10.271290Z",
          "start_time": "2021-09-23T01:18:10.267092Z"
        },
        "heading_collapsed": true,
        "id": "ad401bca"
      },
      "source": [
        "## Análise"
      ]
    },
    {
      "cell_type": "markdown",
      "id": "83539f7e",
      "metadata": {
        "hidden": true,
        "id": "83539f7e"
      },
      "source": [
        "   Coloque a sua análise aqui"
      ]
    },
    {
      "cell_type": "markdown",
      "id": "81a53233",
      "metadata": {
        "heading_collapsed": true,
        "id": "81a53233"
      },
      "source": [
        "## Implicações / Proposições / Afirmações"
      ]
    },
    {
      "cell_type": "markdown",
      "id": "f52d843d",
      "metadata": {
        "hidden": true,
        "id": "f52d843d"
      },
      "source": [
        "Coloque as implicações / Proposições / Afirmações aqui"
      ]
    },
    {
      "cell_type": "markdown",
      "id": "1db898e9",
      "metadata": {
        "heading_collapsed": true,
        "id": "1db898e9"
      },
      "source": [
        "## Resolução e Resposta"
      ]
    },
    {
      "cell_type": "code",
      "execution_count": null,
      "id": "2647d785",
      "metadata": {
        "ExecuteTime": {
          "end_time": "2021-09-26T21:33:34.808097Z",
          "start_time": "2021-09-26T21:33:34.805732Z"
        },
        "hidden": true,
        "id": "2647d785"
      },
      "outputs": [],
      "source": [
        "# Resolução e Resposta Aqui"
      ]
    }
  ],
  "metadata": {
    "kernelspec": {
      "display_name": "Python 3 (ipykernel)",
      "language": "python",
      "name": "python3"
    },
    "language_info": {
      "codemirror_mode": {
        "name": "ipython",
        "version": 3
      },
      "file_extension": ".py",
      "mimetype": "text/x-python",
      "name": "python",
      "nbconvert_exporter": "python",
      "pygments_lexer": "ipython3",
      "version": "3.9.9"
    },
    "latex_envs": {
      "LaTeX_envs_menu_present": true,
      "autoclose": false,
      "autocomplete": true,
      "bibliofile": "biblio.bib",
      "cite_by": "apalike",
      "current_citInitial": 1,
      "eqLabelWithNumbers": true,
      "eqNumInitial": 1,
      "hotkeys": {
        "equation": "Ctrl-E",
        "itemize": "Ctrl-I"
      },
      "labels_anchors": false,
      "latex_user_defs": false,
      "report_style_numbering": false,
      "user_envs_cfg": false
    },
    "colab": {
      "provenance": [],
      "include_colab_link": true
    }
  },
  "nbformat": 4,
  "nbformat_minor": 5
}