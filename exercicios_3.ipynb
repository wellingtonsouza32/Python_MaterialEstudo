{
  "cells": [
    {
      "cell_type": "markdown",
      "metadata": {
        "id": "view-in-github",
        "colab_type": "text"
      },
      "source": [
        "<a href=\"https://colab.research.google.com/github/wellingtonsouza32/Python_MaterialEstudo/blob/master/exercicios_3.ipynb\" target=\"_parent\"><img src=\"https://colab.research.google.com/assets/colab-badge.svg\" alt=\"Open In Colab\"/></a>"
      ]
    },
    {
      "cell_type": "markdown",
      "id": "356cb35d",
      "metadata": {
        "id": "356cb35d"
      },
      "source": [
        "# Exercício 1.0"
      ]
    },
    {
      "cell_type": "markdown",
      "id": "96a0f0d7",
      "metadata": {
        "id": "96a0f0d7"
      },
      "source": [
        "## Problema"
      ]
    },
    {
      "cell_type": "code",
      "source": [
        "from google.colab import drive\n",
        "drive.mount('/content/drive')"
      ],
      "metadata": {
        "colab": {
          "base_uri": "https://localhost:8080/"
        },
        "id": "jZh5TsXE7S7s",
        "outputId": "a3a9cbc0-40a7-47cd-fe89-44e34d7fc39f"
      },
      "id": "jZh5TsXE7S7s",
      "execution_count": 2,
      "outputs": [
        {
          "output_type": "stream",
          "name": "stdout",
          "text": [
            "Mounted at /content/drive\n"
          ]
        }
      ]
    },
    {
      "cell_type": "markdown",
      "id": "e9e8107f",
      "metadata": {
        "ExecuteTime": {
          "end_time": "2021-09-23T01:15:31.266217Z",
          "start_time": "2021-09-23T01:15:31.260904Z"
        },
        "id": "e9e8107f"
      },
      "source": [
        "Considere um arquivo CSV com os seguintes dados de todas as copas do mundo até o ano de 2014. As informações do arquivo são:\n",
        "\n",
        "* Year - Ano da copa\n",
        "* Country - País sede\n",
        "* Winner - Campeão\n",
        "* Runners-Up - Vice-Campeão\n",
        "* Third - Terceiro lugar\n",
        "* Fourth - Quarto Lugar\n",
        "* GoalsScored - Total de Gols\n",
        "* QualifiedTeams - Quantidade de Times\n",
        "* MatchesPlayed - Quantidade de Jogos\n",
        "* Attendance - Público Total\n",
        "\n",
        "Efetue a leitura desse arquivo, sem a utilização de módulos externos (Pandas), e crie um arquivo de saída com as seguintes informações (uma informação por linha):\n",
        "\n",
        "* Soma de público das copas com anos final 0 (1930, 1950, etc)\n",
        "* Quantidade total de gols entre as copas de 1954 e 1990, inclusive\n",
        "* Média de público\n",
        "* Média de gols por partida\n",
        "* Quantidade de vezes em que o país sede foi campeão\n",
        "* Quantidade de vezes em que o time do Brasil ficou entre uma das 4 primeiras posições\n",
        "* Ano das edições em que o time da França finalizou em terceiro lugar\n",
        "* Quantidade de vitórias por país, ordenada de forma crescente por número de títulos"
      ]
    },
    {
      "cell_type": "markdown",
      "id": "111dc674",
      "metadata": {
        "ExecuteTime": {
          "end_time": "2021-09-23T01:18:10.271290Z",
          "start_time": "2021-09-23T01:18:10.267092Z"
        },
        "id": "111dc674"
      },
      "source": [
        "## Análise"
      ]
    },
    {
      "cell_type": "markdown",
      "id": "e21d12c5",
      "metadata": {
        "id": "e21d12c5"
      },
      "source": [
        "   Coloque a sua análise aqui"
      ]
    },
    {
      "cell_type": "markdown",
      "id": "719448b9",
      "metadata": {
        "id": "719448b9"
      },
      "source": [
        "## Resolução e Resposta"
      ]
    },
    {
      "cell_type": "code",
      "source": [
        "with open('/content/drive/MyDrive/Colab Notebooks/world_cups.csv', \"r\") as textFile:\n",
        "    lines = textFile.readlines()\n",
        "    lines = list(map(lambda s: s.strip(), lines)) \n",
        "    print(lines)"
      ],
      "metadata": {
        "colab": {
          "base_uri": "https://localhost:8080/"
        },
        "id": "BEbO_UKN9tW9",
        "outputId": "b97b19f6-a878-40d2-fa94-4e7a1afbd6ee"
      },
      "id": "BEbO_UKN9tW9",
      "execution_count": 3,
      "outputs": [
        {
          "output_type": "stream",
          "name": "stdout",
          "text": [
            "['Year,Country,Winner,Runners-Up,Third,Fourth,GoalsScored,QualifiedTeams,MatchesPlayed,Attendance', '1930,Uruguay,Uruguay,Argentina,USA,Yugoslavia,70,13,18,590.549', '1934,Italy,Italy,Czechoslovakia,Germany,Austria,70,16,17,363.000', '1938,France,Italy,Hungary,Brazil,Sweden,84,15,18,375.700', '1950,Brazil,Uruguay,Brazil,Sweden,Spain,88,13,22,1.045.246', '1954,Switzerland,Germany FR,Hungary,Austria,Uruguay,140,16,26,768.607', '1958,Sweden,Brazil,Sweden,France,Germany FR,126,16,35,819.810', '1962,Chile,Brazil,Czechoslovakia,Chile,Yugoslavia,89,16,32,893.172', '1966,England,England,Germany FR,Portugal,Soviet Union,89,16,32,1.563.135', '1970,Mexico,Brazil,Italy,Germany FR,Uruguay,95,16,32,1.603.975', '1974,Germany,Germany FR,Netherlands,Poland,Brazil,97,16,38,1.865.753', '1978,Argentina,Argentina,Netherlands,Brazil,Italy,102,16,38,1.545.791', '1982,Spain,Italy,Germany FR,Poland,France,146,24,52,2.109.723', '1986,Mexico,Argentina,Germany FR,France,Belgium,132,24,52,2.394.031', '1990,Italy,Germany FR,Argentina,Italy,England,115,24,52,2.516.215', '1994,USA,Brazil,Italy,Sweden,Bulgaria,141,24,52,3.587.538', '1998,France,France,Brazil,Croatia,Netherlands,171,32,64,2.785.100', '2002,Korea/Japan,Brazil,Germany,Turkey,Korea Republic,161,32,64,2.705.197', '2006,Germany,Italy,France,Germany,Portugal,147,32,64,3.359.439', '2010,South Africa,Spain,Netherlands,Germany,Uruguay,145,32,64,3.178.856', '2014,Brazil,Germany,Argentina,Netherlands,Brazil,171,32,64,3.386.810']\n"
          ]
        }
      ]
    },
    {
      "cell_type": "markdown",
      "source": [
        "1 - Soma de público das copas com anos final 0 (1930, 1950, etc)"
      ],
      "metadata": {
        "id": "J79-M2uvBUOD"
      },
      "id": "J79-M2uvBUOD"
    },
    {
      "cell_type": "code",
      "execution_count": 20,
      "id": "13a59a4f",
      "metadata": {
        "ExecuteTime": {
          "end_time": "2021-09-26T21:33:34.808097Z",
          "start_time": "2021-09-26T21:33:34.805732Z"
        },
        "colab": {
          "base_uri": "https://localhost:8080/"
        },
        "id": "13a59a4f",
        "outputId": "b69a67cb-c81f-46a9-e62a-03dbf0db12b2"
      },
      "outputs": [
        {
          "output_type": "stream",
          "name": "stdout",
          "text": [
            "8934841.0\n"
          ]
        }
      ],
      "source": [
        "import csv\n",
        "filename = '/content/drive/MyDrive/Colab Notebooks/world_cups.csv'\n",
        "\n",
        "soma = []\n",
        "\n",
        "with open(filename, \"r\") as csv_file:\n",
        "    reader = csv.reader(csv_file)\n",
        "    next(reader)\n",
        "    for linha in reader:\n",
        "      if linha[0][3] == '0':\n",
        "          string = linha[9].replace('.', '')\n",
        "          soma.append(float(string))\n",
        "    print (sum(soma))\n",
        "       \n",
        "\n",
        " "
      ]
    },
    {
      "cell_type": "markdown",
      "source": [
        "2 - Quantidade total de gols entre as copas de 1954 e 1990"
      ],
      "metadata": {
        "id": "fbDfwPIo0sj6"
      },
      "id": "fbDfwPIo0sj6"
    },
    {
      "cell_type": "code",
      "source": [
        "import csv\n",
        "filename = '/content/drive/MyDrive/Colab Notebooks/world_cups.csv'\n",
        "\n",
        "soma = []\n",
        "\n",
        "with open(filename, \"r\") as csv_file:\n",
        "    reader = csv.reader(csv_file)\n",
        "    next(reader)\n",
        "    for linha in reader:\n",
        "      if ((linha[0] >= '1954') and (linha[0] <= '1990')):\n",
        "          string = linha[6]\n",
        "          soma.append(int(string))\n",
        "    print (sum(soma))"
      ],
      "metadata": {
        "colab": {
          "base_uri": "https://localhost:8080/"
        },
        "id": "hBB2OBo1BXzb",
        "outputId": "38d9f639-3403-4b8d-c4a7-971bb31d2ac9"
      },
      "id": "hBB2OBo1BXzb",
      "execution_count": 18,
      "outputs": [
        {
          "output_type": "stream",
          "name": "stdout",
          "text": [
            "1131\n"
          ]
        }
      ]
    },
    {
      "cell_type": "markdown",
      "source": [
        "3 - Média de público:"
      ],
      "metadata": {
        "id": "I9SVHgRn4RuY"
      },
      "id": "I9SVHgRn4RuY"
    },
    {
      "cell_type": "code",
      "source": [
        "import csv\n",
        "filename = '/content/drive/MyDrive/Colab Notebooks/world_cups.csv'\n",
        "\n",
        "soma = []\n",
        "count = 0\n",
        "\n",
        "\n",
        "with open(filename, \"r\") as csv_file:\n",
        "    reader = csv.reader(csv_file)\n",
        "    next(reader)\n",
        "    for linha in reader:\n",
        "      count += 1\n",
        "      string = linha[9].replace('.', '')\n",
        "      soma.append(float(string))\n",
        "    print (sum(soma)/count)"
      ],
      "metadata": {
        "id": "XOb-h-Kk4XG1",
        "outputId": "2309bd1f-927a-424e-ab1e-93c569facb46",
        "colab": {
          "base_uri": "https://localhost:8080/"
        }
      },
      "id": "XOb-h-Kk4XG1",
      "execution_count": 34,
      "outputs": [
        {
          "output_type": "stream",
          "name": "stdout",
          "text": [
            "1872882.35\n"
          ]
        }
      ]
    },
    {
      "cell_type": "markdown",
      "source": [
        "4 - Média de gols por partida"
      ],
      "metadata": {
        "id": "pC3V1LyR7Cqv"
      },
      "id": "pC3V1LyR7Cqv"
    },
    {
      "cell_type": "code",
      "source": [
        "import csv\n",
        "filename = '/content/drive/MyDrive/Colab Notebooks/world_cups.csv'\n",
        "\n",
        "soma = []\n",
        "partida = []\n",
        "count = 0\n",
        "\n",
        "\n",
        "with open(filename, \"r\") as csv_file:\n",
        "    reader = csv.reader(csv_file)\n",
        "    next(reader)\n",
        "    for linha in reader:\n",
        "      count += 1\n",
        "      string = linha[6].replace('.', '')\n",
        "      soma.append(int(string))\n",
        "      partida.append(int(linha[8]))\n",
        "    print (sum(soma)/sum(partida))"
      ],
      "metadata": {
        "id": "ZjEkfN_57XbV",
        "outputId": "b3c4c088-d056-4c19-ea6c-696610aa7afe",
        "colab": {
          "base_uri": "https://localhost:8080/"
        }
      },
      "id": "ZjEkfN_57XbV",
      "execution_count": 37,
      "outputs": [
        {
          "output_type": "stream",
          "name": "stdout",
          "text": [
            "2.8456937799043063\n"
          ]
        }
      ]
    },
    {
      "cell_type": "markdown",
      "source": [
        "5 - Quantidade de vezes em que o país sede foi campeão"
      ],
      "metadata": {
        "id": "xLySrGvh8P4X"
      },
      "id": "xLySrGvh8P4X"
    },
    {
      "cell_type": "code",
      "source": [
        "import csv\n",
        "filename = '/content/drive/MyDrive/Colab Notebooks/world_cups.csv'\n",
        "\n",
        "\n",
        "count = 0\n",
        "\n",
        "\n",
        "with open(filename, \"r\") as csv_file:\n",
        "    reader = csv.reader(csv_file)\n",
        "    next(reader)\n",
        "    for linha in reader:\n",
        "      if linha[1] == linha[2]:\n",
        "        print(f'País sede campeão {linha[1]}')\n",
        "        count += 1\n",
        "    print(f'Quantidade de vezes que o País sede foi Campeão {count}')\n",
        "      "
      ],
      "metadata": {
        "id": "CUHjV1RE8My_",
        "outputId": "ece62c05-d6e6-4b50-dea0-1b97479551f3",
        "colab": {
          "base_uri": "https://localhost:8080/"
        }
      },
      "id": "CUHjV1RE8My_",
      "execution_count": 38,
      "outputs": [
        {
          "output_type": "stream",
          "name": "stdout",
          "text": [
            "País sede campeão Uruguay\n",
            "País sede campeão Italy\n",
            "País sede campeão England\n",
            "País sede campeão Argentina\n",
            "País sede campeão France\n",
            "Quantidade de vezes que o País sede foi Campeão 5\n"
          ]
        }
      ]
    },
    {
      "cell_type": "markdown",
      "source": [
        "6-Quantidade de vezes em que o time do Brasil ficou entre uma das 4 primeiras posições:"
      ],
      "metadata": {
        "id": "wwFCSlju9snQ"
      },
      "id": "wwFCSlju9snQ"
    },
    {
      "cell_type": "code",
      "source": [
        "import csv\n",
        "filename = '/content/drive/MyDrive/Colab Notebooks/world_cups.csv'\n",
        "\n",
        "count = 0\n",
        "\n",
        "with open(filename, \"r\") as csv_file:\n",
        "    reader = csv.reader(csv_file)\n",
        "    next(reader)\n",
        "    for linha in reader:\n",
        "      if ((linha[2] == 'Brazil') or (linha[3] == 'Brazil') or (linha[4] == 'Brazil') or (linha[5] == 'Brazil')):\n",
        "          count += 1\n",
        "    print (f'Quantidade de vezes em que o time do Brasil ficou entre uma das 4 primeiras posições  {count}')"
      ],
      "metadata": {
        "id": "L9NVrqAD-SWn",
        "outputId": "8b1b9970-31d1-4bfb-a5e4-47af436dc61c",
        "colab": {
          "base_uri": "https://localhost:8080/"
        }
      },
      "id": "L9NVrqAD-SWn",
      "execution_count": 52,
      "outputs": [
        {
          "output_type": "stream",
          "name": "stdout",
          "text": [
            "Quantidade de vezes em que o time do Brasil ficou entre uma das 4 primeiras posições  11\n"
          ]
        }
      ]
    },
    {
      "cell_type": "markdown",
      "source": [
        "7 - Ano das edições em que o time da França finalizou em terceiro lugar:"
      ],
      "metadata": {
        "id": "tGuPZVOQCCPO"
      },
      "id": "tGuPZVOQCCPO"
    },
    {
      "cell_type": "code",
      "source": [
        "import csv\n",
        "filename = '/content/drive/MyDrive/Colab Notebooks/world_cups.csv'\n",
        "\n",
        "count = 0\n",
        "ano = []\n",
        "\n",
        "with open(filename, \"r\") as csv_file:\n",
        "    reader = csv.reader(csv_file)\n",
        "    next(reader)\n",
        "    for linha in reader:\n",
        "      if linha[4] == 'France':\n",
        "          count += 1\n",
        "          ano.append(linha[0])\n",
        "    print (f'Ano das edições em que o time da França finalizou em terceiro lugar {count} {ano}')"
      ],
      "metadata": {
        "id": "RjDooNYDCGS0",
        "outputId": "a3877f1c-d989-4f1c-d3e4-ddf9b6b52553",
        "colab": {
          "base_uri": "https://localhost:8080/"
        }
      },
      "id": "RjDooNYDCGS0",
      "execution_count": 56,
      "outputs": [
        {
          "output_type": "stream",
          "name": "stdout",
          "text": [
            "Ano das edições em que o time da França finalizou em terceiro lugar 2 ['1958', '1986']\n"
          ]
        }
      ]
    },
    {
      "cell_type": "markdown",
      "source": [
        "8 - Quantidade de vitórias por país, classificada em ordem crescente do número de títulos"
      ],
      "metadata": {
        "id": "OxcYm6Z6DTRg"
      },
      "id": "OxcYm6Z6DTRg"
    },
    {
      "cell_type": "code",
      "source": [
        "import csv\n",
        "filename = '/content/drive/MyDrive/Colab Notebooks/world_cups.csv'\n",
        "\n",
        "count = 0\n",
        "campeao = []\n",
        "dict = {}\n",
        "\n",
        "with open(filename, \"r\") as csv_file:\n",
        "    reader = csv.reader(csv_file)\n",
        "    next(reader)\n",
        "    for linha in reader:\n",
        "      campeao.append(linha[2])\n",
        "    for string in campeao:\n",
        "      substring = string\n",
        "      total = campeao.count(substring)\n",
        "      dict[substring] = total\n",
        "    for i in sorted(dict, key = dict.get):\n",
        "      print(i,dict[i])\n"
      ],
      "metadata": {
        "id": "qoKM8ituDZRP",
        "outputId": "6dc199f6-0e07-4f18-ac75-19ee10a01e65",
        "colab": {
          "base_uri": "https://localhost:8080/"
        }
      },
      "id": "qoKM8ituDZRP",
      "execution_count": 87,
      "outputs": [
        {
          "output_type": "stream",
          "name": "stdout",
          "text": [
            "England 1\n",
            "France 1\n",
            "Spain 1\n",
            "Germany 1\n",
            "Uruguay 2\n",
            "Argentina 2\n",
            "Germany FR 3\n",
            "Italy 4\n",
            "Brazil 5\n"
          ]
        }
      ]
    },
    {
      "cell_type": "markdown",
      "id": "f9edd842",
      "metadata": {
        "id": "f9edd842"
      },
      "source": [
        "# Resposta"
      ]
    },
    {
      "cell_type": "markdown",
      "id": "0a7cc1ee",
      "metadata": {
        "id": "0a7cc1ee"
      },
      "source": [
        "Soma de público das copas com final 0: 8934841   \n",
        "Quantidade total de gols entre as copas de 1954 e 1990: 1131  \n",
        "Média de público: 1872882.35  \n",
        "Média de gols por partida: 2.85  \n",
        "Quantidade de vezes em que o país sede foi campeão: 5  \n",
        "Quantidade de vezes em que o time do Brasil ficou entre uma das 4 primeiras posições: 11  \n",
        "Ano das edições em que o time da França finalizou em terceiro lugar: 1958, 1986  \n",
        "Quantidade de vitórias por país, classificada em ordem crescente do número de títulos:  \n",
        "* England:1\n",
        "* France:1\n",
        "* Spain:1\n",
        "* Germany:1\n",
        "* Uruguay:2\n",
        "* Argentina:2\n",
        "* Germany FR:3\n",
        "* Italy:4\n",
        "* Brazil:5 "
      ]
    },
    {
      "cell_type": "code",
      "execution_count": null,
      "id": "87b96cf4",
      "metadata": {
        "id": "87b96cf4"
      },
      "outputs": [],
      "source": []
    }
  ],
  "metadata": {
    "kernelspec": {
      "display_name": "Python 3.8.12 64-bit ('pa005-3.8.12': pyenv)",
      "language": "python",
      "name": "python3812jvsc74a57bd0d1aaed0d54c5633c6e9d372bf4c47f0b42d9789d909d3d6d555bb4fdc739c330"
    },
    "language_info": {
      "codemirror_mode": {
        "name": "ipython",
        "version": 3
      },
      "file_extension": ".py",
      "mimetype": "text/x-python",
      "name": "python",
      "nbconvert_exporter": "python",
      "pygments_lexer": "ipython3",
      "version": "3.8.12"
    },
    "latex_envs": {
      "LaTeX_envs_menu_present": true,
      "autoclose": false,
      "autocomplete": true,
      "bibliofile": "biblio.bib",
      "cite_by": "apalike",
      "current_citInitial": 1,
      "eqLabelWithNumbers": true,
      "eqNumInitial": 1,
      "hotkeys": {
        "equation": "Ctrl-E",
        "itemize": "Ctrl-I"
      },
      "labels_anchors": false,
      "latex_user_defs": false,
      "report_style_numbering": false,
      "user_envs_cfg": false
    },
    "colab": {
      "provenance": [],
      "collapsed_sections": [
        "f9edd842"
      ],
      "include_colab_link": true
    }
  },
  "nbformat": 4,
  "nbformat_minor": 5
}