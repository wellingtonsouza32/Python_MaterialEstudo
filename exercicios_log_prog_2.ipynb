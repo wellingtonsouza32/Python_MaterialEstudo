{
  "cells": [
    {
      "cell_type": "markdown",
      "metadata": {
        "id": "view-in-github",
        "colab_type": "text"
      },
      "source": [
        "<a href=\"https://colab.research.google.com/github/wellingtonsouza32/Python_MaterialEstudo/blob/master/exercicios_log_prog_2.ipynb\" target=\"_parent\"><img src=\"https://colab.research.google.com/assets/colab-badge.svg\" alt=\"Open In Colab\"/></a>"
      ]
    },
    {
      "cell_type": "markdown",
      "id": "d23c4e15",
      "metadata": {
        "heading_collapsed": true,
        "id": "d23c4e15"
      },
      "source": [
        "# 1. Faça um algoritmo para somar dois números e multiplicar o resultado pelo primeiro número"
      ]
    },
    {
      "cell_type": "markdown",
      "id": "b3fbddeb",
      "metadata": {
        "heading_collapsed": true,
        "hidden": true,
        "id": "b3fbddeb"
      },
      "source": [
        "## Resolução"
      ]
    },
    {
      "cell_type": "code",
      "execution_count": 1,
      "id": "19a31f09",
      "metadata": {
        "hidden": true,
        "colab": {
          "base_uri": "https://localhost:8080/"
        },
        "id": "19a31f09",
        "outputId": "c46f521d-cd95-4391-ce42-72e819f954fa"
      },
      "outputs": [
        {
          "output_type": "stream",
          "name": "stdout",
          "text": [
            "Digite primeiro valor100\n",
            "Digite segundo valor100\n",
            "O Primero valor é 100 o segundo valor é 100, a soma dos números vezes o primeiro número é 20000\n"
          ]
        }
      ],
      "source": [
        "n1 = int(input('Digite primeiro valor'))\n",
        "n2 = int(input('Digite segundo valor'))\n",
        "sum = (n1 + n2) * n1\n",
        "print (f'O Primero valor é {n1} o segundo valor é {n2}, a soma dos números vezes o primeiro número é {sum}')"
      ]
    },
    {
      "cell_type": "markdown",
      "id": "06d36ed5",
      "metadata": {
        "heading_collapsed": true,
        "hidden": true,
        "id": "06d36ed5"
      },
      "source": [
        "## Resposta"
      ]
    },
    {
      "cell_type": "code",
      "execution_count": 2,
      "id": "07e70c3b",
      "metadata": {
        "ExecuteTime": {
          "end_time": "2022-05-06T11:29:27.218881Z",
          "start_time": "2022-05-06T11:29:25.552816Z"
        },
        "hidden": true,
        "colab": {
          "base_uri": "https://localhost:8080/",
          "height": 380
        },
        "id": "07e70c3b",
        "outputId": "15855b0a-5505-42ec-ef74-f7ae0c1b2c32"
      },
      "outputs": [
        {
          "output_type": "error",
          "ename": "KeyboardInterrupt",
          "evalue": "ignored",
          "traceback": [
            "\u001b[0;31m---------------------------------------------------------------------------\u001b[0m",
            "\u001b[0;31mKeyboardInterrupt\u001b[0m                         Traceback (most recent call last)",
            "\u001b[0;32m<ipython-input-2-97c4dfec2d5c>\u001b[0m in \u001b[0;36m<module>\u001b[0;34m\u001b[0m\n\u001b[0;32m----> 1\u001b[0;31m \u001b[0mnum_1\u001b[0m \u001b[0;34m=\u001b[0m \u001b[0mfloat\u001b[0m\u001b[0;34m(\u001b[0m\u001b[0minput\u001b[0m\u001b[0;34m(\u001b[0m\u001b[0;34mf'Informe o primeiro valor: '\u001b[0m\u001b[0;34m)\u001b[0m\u001b[0;34m)\u001b[0m\u001b[0;34m\u001b[0m\u001b[0;34m\u001b[0m\u001b[0m\n\u001b[0m\u001b[1;32m      2\u001b[0m \u001b[0mnum_2\u001b[0m \u001b[0;34m=\u001b[0m \u001b[0mfloat\u001b[0m\u001b[0;34m(\u001b[0m\u001b[0minput\u001b[0m\u001b[0;34m(\u001b[0m\u001b[0;34mf'Informe o segundo valor: '\u001b[0m\u001b[0;34m)\u001b[0m\u001b[0;34m)\u001b[0m\u001b[0;34m\u001b[0m\u001b[0;34m\u001b[0m\u001b[0m\n\u001b[1;32m      3\u001b[0m \u001b[0;34m\u001b[0m\u001b[0m\n\u001b[1;32m      4\u001b[0m \u001b[0msoma\u001b[0m \u001b[0;34m=\u001b[0m \u001b[0mnum_1\u001b[0m \u001b[0;34m+\u001b[0m \u001b[0mnum_2\u001b[0m\u001b[0;34m\u001b[0m\u001b[0;34m\u001b[0m\u001b[0m\n\u001b[1;32m      5\u001b[0m \u001b[0mmulti\u001b[0m \u001b[0;34m=\u001b[0m \u001b[0msoma\u001b[0m \u001b[0;34m*\u001b[0m \u001b[0mnum_1\u001b[0m\u001b[0;34m\u001b[0m\u001b[0;34m\u001b[0m\u001b[0m\n",
            "\u001b[0;32m/usr/local/lib/python3.7/dist-packages/ipykernel/kernelbase.py\u001b[0m in \u001b[0;36mraw_input\u001b[0;34m(self, prompt)\u001b[0m\n\u001b[1;32m    861\u001b[0m             \u001b[0mself\u001b[0m\u001b[0;34m.\u001b[0m\u001b[0m_parent_ident\u001b[0m\u001b[0;34m,\u001b[0m\u001b[0;34m\u001b[0m\u001b[0;34m\u001b[0m\u001b[0m\n\u001b[1;32m    862\u001b[0m             \u001b[0mself\u001b[0m\u001b[0;34m.\u001b[0m\u001b[0m_parent_header\u001b[0m\u001b[0;34m,\u001b[0m\u001b[0;34m\u001b[0m\u001b[0;34m\u001b[0m\u001b[0m\n\u001b[0;32m--> 863\u001b[0;31m             \u001b[0mpassword\u001b[0m\u001b[0;34m=\u001b[0m\u001b[0;32mFalse\u001b[0m\u001b[0;34m,\u001b[0m\u001b[0;34m\u001b[0m\u001b[0;34m\u001b[0m\u001b[0m\n\u001b[0m\u001b[1;32m    864\u001b[0m         )\n\u001b[1;32m    865\u001b[0m \u001b[0;34m\u001b[0m\u001b[0m\n",
            "\u001b[0;32m/usr/local/lib/python3.7/dist-packages/ipykernel/kernelbase.py\u001b[0m in \u001b[0;36m_input_request\u001b[0;34m(self, prompt, ident, parent, password)\u001b[0m\n\u001b[1;32m    902\u001b[0m             \u001b[0;32mexcept\u001b[0m \u001b[0mKeyboardInterrupt\u001b[0m\u001b[0;34m:\u001b[0m\u001b[0;34m\u001b[0m\u001b[0;34m\u001b[0m\u001b[0m\n\u001b[1;32m    903\u001b[0m                 \u001b[0;31m# re-raise KeyboardInterrupt, to truncate traceback\u001b[0m\u001b[0;34m\u001b[0m\u001b[0;34m\u001b[0m\u001b[0;34m\u001b[0m\u001b[0m\n\u001b[0;32m--> 904\u001b[0;31m                 \u001b[0;32mraise\u001b[0m \u001b[0mKeyboardInterrupt\u001b[0m\u001b[0;34m(\u001b[0m\u001b[0;34m\"Interrupted by user\"\u001b[0m\u001b[0;34m)\u001b[0m \u001b[0;32mfrom\u001b[0m \u001b[0;32mNone\u001b[0m\u001b[0;34m\u001b[0m\u001b[0;34m\u001b[0m\u001b[0m\n\u001b[0m\u001b[1;32m    905\u001b[0m             \u001b[0;32mexcept\u001b[0m \u001b[0mException\u001b[0m \u001b[0;32mas\u001b[0m \u001b[0me\u001b[0m\u001b[0;34m:\u001b[0m\u001b[0;34m\u001b[0m\u001b[0;34m\u001b[0m\u001b[0m\n\u001b[1;32m    906\u001b[0m                 \u001b[0mself\u001b[0m\u001b[0;34m.\u001b[0m\u001b[0mlog\u001b[0m\u001b[0;34m.\u001b[0m\u001b[0mwarning\u001b[0m\u001b[0;34m(\u001b[0m\u001b[0;34m\"Invalid Message:\"\u001b[0m\u001b[0;34m,\u001b[0m \u001b[0mexc_info\u001b[0m\u001b[0;34m=\u001b[0m\u001b[0;32mTrue\u001b[0m\u001b[0;34m)\u001b[0m\u001b[0;34m\u001b[0m\u001b[0;34m\u001b[0m\u001b[0m\n",
            "\u001b[0;31mKeyboardInterrupt\u001b[0m: Interrupted by user"
          ]
        }
      ],
      "source": [
        "num_1 = float(input(f'Informe o primeiro valor: '))\n",
        "num_2 = float(input(f'Informe o segundo valor: '))\n",
        "\n",
        "soma = num_1 + num_2\n",
        "multi = soma * num_1\n",
        "\n",
        "print(f'A soma dos valores {num_1} e {num_2} é igual a {soma}')\n",
        "print(f'A multiplicação dos valores {soma} e {num_1} é igual a {multi}')"
      ]
    },
    {
      "cell_type": "markdown",
      "id": "fb8dab54",
      "metadata": {
        "heading_collapsed": true,
        "id": "fb8dab54"
      },
      "source": [
        "# 2. Construa um algoritmo que:"
      ]
    },
    {
      "cell_type": "markdown",
      "id": "6f3da13c",
      "metadata": {
        "hidden": true,
        "id": "6f3da13c"
      },
      "source": [
        "* Leia a cotação do dólar\n",
        "* Leia um valor em dólares\n",
        "* Converta esse valor para Real\n",
        "* Mostre o resultado\n",
        "\n",
        "Utilize a seguinte fórmula para realizar a conversão:\n",
        "\n",
        "$$ valor\\_real = valor\\_dolar * cotacao $$"
      ]
    },
    {
      "cell_type": "markdown",
      "id": "8ecd7c66",
      "metadata": {
        "heading_collapsed": true,
        "hidden": true,
        "id": "8ecd7c66"
      },
      "source": [
        "## Resolução"
      ]
    },
    {
      "cell_type": "code",
      "execution_count": 3,
      "id": "4d1e1544",
      "metadata": {
        "hidden": true,
        "colab": {
          "base_uri": "https://localhost:8080/"
        },
        "id": "4d1e1544",
        "outputId": "e87af3a2-3cb5-4d32-bdde-7d60277224e6"
      },
      "outputs": [
        {
          "output_type": "stream",
          "name": "stdout",
          "text": [
            "a cotação atual do dolar é 5.1842\n",
            "Digite um Valor em dólar100\n",
            "19.289379267775164\n"
          ]
        }
      ],
      "source": [
        "import requests\n",
        "import json\n",
        "   \n",
        "url = requests.get('https://economia.awesomeapi.com.br/last/USD')\n",
        "\n",
        "conteudo = json.loads(url.content)\n",
        "valor = conteudo.get(\"USDBRL\")\n",
        "cotacao = valor.get(\"high\")\n",
        "float(cotacao)\n",
        "print(f'a cotação atual do dolar é {cotacao}')\n",
        "\n",
        "dol = float(input('Digite um Valor em dólar'))\n",
        "\n",
        "real = dol / float(cotacao)\n",
        "\n",
        "print (real)\n",
        "\n",
        "\n"
      ]
    },
    {
      "cell_type": "markdown",
      "id": "21dd930d",
      "metadata": {
        "heading_collapsed": true,
        "hidden": true,
        "id": "21dd930d"
      },
      "source": [
        "## Resposta"
      ]
    },
    {
      "cell_type": "code",
      "execution_count": null,
      "id": "0692dfb4",
      "metadata": {
        "ExecuteTime": {
          "end_time": "2022-05-06T11:48:12.531547Z",
          "start_time": "2022-05-06T11:48:03.947475Z"
        },
        "hidden": true,
        "id": "0692dfb4"
      },
      "outputs": [],
      "source": [
        "cotacao = float(input(f'Informe a cotação do dólar: '))\n",
        "valor_doalar = float(input(f'Informe o valor (dólar): '))\n",
        "\n",
        "valor_real = valor_doalar * cotacao\n",
        "\n",
        "print(f'O valor U$ {valor_doalar}, com a cotação de R$ {cotacao} representa R$ {valor_real}')"
      ]
    },
    {
      "cell_type": "markdown",
      "id": "08c2a265",
      "metadata": {
        "heading_collapsed": true,
        "id": "08c2a265"
      },
      "source": [
        "# 3. Desenvolva um algoritmo que:"
      ]
    },
    {
      "cell_type": "markdown",
      "id": "f6e3f41e",
      "metadata": {
        "hidden": true,
        "id": "f6e3f41e"
      },
      "source": [
        "* Leia 4 (quatro) números\n",
        "* Calcule o quadrado para cada um\n",
        "* Somem todos\n",
        "* Mostre o resultado"
      ]
    },
    {
      "cell_type": "markdown",
      "id": "702f12b1",
      "metadata": {
        "heading_collapsed": true,
        "hidden": true,
        "id": "702f12b1"
      },
      "source": [
        "## Resolução"
      ]
    },
    {
      "cell_type": "code",
      "execution_count": 7,
      "id": "a3033d76",
      "metadata": {
        "hidden": true,
        "colab": {
          "base_uri": "https://localhost:8080/"
        },
        "id": "a3033d76",
        "outputId": "8ec57ef4-b3c0-4c84-f5da-184ff17a69e6"
      },
      "outputs": [
        {
          "output_type": "stream",
          "name": "stdout",
          "text": [
            "Digite o valor 15\n",
            "O valor quadrado do 1 é 25\n",
            "Digite o valor 25\n",
            "O valor quadrado do 2 é 25\n",
            "Digite o valor 35\n",
            "O valor quadrado do 3 é 25\n",
            "Digite o valor 45\n",
            "O valor quadrado do 4 é 25\n",
            "A soma geral é 100\n"
          ]
        }
      ],
      "source": [
        "soma = 0\n",
        "for i in range (1,5):\n",
        "  valor = int(input(f'Digite o valor {i}'))\n",
        "  quadrado = valor * valor\n",
        "  print (f'O valor quadrado do {i} é {quadrado}')\n",
        "  soma = soma + quadrado\n",
        "print (f'A soma geral é {soma}')"
      ]
    },
    {
      "cell_type": "markdown",
      "id": "af23fcbf",
      "metadata": {
        "heading_collapsed": true,
        "hidden": true,
        "id": "af23fcbf"
      },
      "source": [
        "## Resposta"
      ]
    },
    {
      "cell_type": "code",
      "execution_count": null,
      "id": "63b5cd59",
      "metadata": {
        "ExecuteTime": {
          "end_time": "2022-05-06T12:09:38.563658Z",
          "start_time": "2022-05-06T12:09:34.540438Z"
        },
        "hidden": true,
        "id": "63b5cd59"
      },
      "outputs": [],
      "source": [
        "num_1 = float(input(f'Informe o primeiro valor: '))\n",
        "num_2 = float(input(f'Informe o segundo valor: '))\n",
        "num_3 = float(input(f'Informe o terceiro valor: '))\n",
        "num_4 = float(input(f'Informe o quarto valor: '))\n",
        "\n",
        "# Calcula o valor de cada numero elevado ao quadrado\n",
        "# utilizando o operador '**'. Ou seja, 3 ** 2 é igual\n",
        "# ao valor 3 elevado ao quadrado\n",
        "soma = num_1 ** 2 + num_2 ** 2 + num_3 ** 2 + num_4 ** 2\n",
        "\n",
        "print(f'O resolutado da soma de todos os valores informados elevados ao quadrado é {soma}')"
      ]
    },
    {
      "cell_type": "markdown",
      "id": "bc4262e0",
      "metadata": {
        "heading_collapsed": true,
        "id": "bc4262e0"
      },
      "source": [
        "# 4. Ler um número e verificar se ele é par ou ímpar. Quando for par armazenar esse valor em P e quando for ímpar armazená-lo em I. Exibir P e I no final do processamento."
      ]
    },
    {
      "cell_type": "markdown",
      "id": "8a4dad7f",
      "metadata": {
        "heading_collapsed": true,
        "hidden": true,
        "id": "8a4dad7f"
      },
      "source": [
        "## Resolução"
      ]
    },
    {
      "cell_type": "code",
      "execution_count": null,
      "id": "4b5fade7",
      "metadata": {
        "hidden": true,
        "id": "4b5fade7"
      },
      "outputs": [],
      "source": []
    },
    {
      "cell_type": "markdown",
      "id": "265fb9af",
      "metadata": {
        "heading_collapsed": true,
        "hidden": true,
        "id": "265fb9af"
      },
      "source": [
        "## Resposta"
      ]
    },
    {
      "cell_type": "code",
      "execution_count": null,
      "id": "29ad7bf0",
      "metadata": {
        "ExecuteTime": {
          "end_time": "2022-05-06T12:07:21.539211Z",
          "start_time": "2022-05-06T12:07:19.925893Z"
        },
        "hidden": true,
        "id": "29ad7bf0"
      },
      "outputs": [],
      "source": [
        "valor = float(input(f'Informe o valor: '))\n",
        "i = 0\n",
        "p = 0\n",
        "\n",
        "# Verifica se o valor é par. Ou seja,\n",
        "# possuí o resto da divisão por 2 igual\n",
        "# a zero\n",
        "if valor % 2 == 0:\n",
        "    p = valor\n",
        "else:\n",
        "    i = valor\n",
        "    \n",
        "print(f'O valor de P: {p}')\n",
        "print(f'O valor de I: {i}')"
      ]
    },
    {
      "cell_type": "markdown",
      "id": "5aaec516",
      "metadata": {
        "heading_collapsed": true,
        "id": "5aaec516"
      },
      "source": [
        "# 5. Tendo como dados de entrada a altura e o sexo de uma pessoa, construa um algoritmo que calcule seu peso ideal, utilizando as seguintes fórmulas: "
      ]
    },
    {
      "cell_type": "markdown",
      "id": "3ff58b37",
      "metadata": {
        "hidden": true,
        "id": "3ff58b37"
      },
      "source": [
        "$$ Homens: (72.7 * h) - 58 $$\n",
        "$$ Mulheres: (62.1 * h) - 44.7 $$\n",
        "\n",
        "onde, \n",
        "* h = altura "
      ]
    },
    {
      "cell_type": "markdown",
      "id": "7da2aeb7",
      "metadata": {
        "heading_collapsed": true,
        "hidden": true,
        "id": "7da2aeb7"
      },
      "source": [
        "## Resolução"
      ]
    },
    {
      "cell_type": "code",
      "execution_count": null,
      "id": "a339f415",
      "metadata": {
        "hidden": true,
        "id": "a339f415"
      },
      "outputs": [],
      "source": []
    },
    {
      "cell_type": "markdown",
      "id": "a93db609",
      "metadata": {
        "heading_collapsed": true,
        "hidden": true,
        "id": "a93db609"
      },
      "source": [
        "## Resposta"
      ]
    },
    {
      "cell_type": "code",
      "execution_count": null,
      "id": "37e9c91c",
      "metadata": {
        "ExecuteTime": {
          "end_time": "2022-05-06T12:10:16.210790Z",
          "start_time": "2022-05-06T12:10:10.081287Z"
        },
        "hidden": true,
        "id": "37e9c91c"
      },
      "outputs": [],
      "source": [
        "h = float(input(f'Informe a altura: '))\n",
        "sexo = input('informe o sexo (mascuino/feminino): ')\n",
        "\n",
        "# Transforma o texto digitado pelo usuário todo em\n",
        "# letras minúsculas\n",
        "if sexo.lower() == 'masculino':\n",
        "    p = ( 72.7 * h ) - 58\n",
        "else:\n",
        "    p = ( 62.1 * h ) - 44.7\n",
        "    \n",
        "print(f'O peso ideal é {p} Kg')"
      ]
    },
    {
      "cell_type": "markdown",
      "id": "fb78c0c5",
      "metadata": {
        "heading_collapsed": true,
        "id": "fb78c0c5"
      },
      "source": [
        "# 6. Elabore um algoritmo que leia as variáveis C e N, respectivamente código e número de horas trabalhadas de um operário. E calcule o salário sabendo-se que ele ganha R\\\\$ 10,00 por hora. Quando o número de horas exceder a 50 calcule o excesso de pagamento armazenando-o na variável E, caso contrário zerar tal variável. A hora excedente de trabalho vale R\\\\$ 20,00. No final do processamento imprimir o salário total e o salário excedente."
      ]
    },
    {
      "cell_type": "markdown",
      "id": "0a10d3d6",
      "metadata": {
        "heading_collapsed": true,
        "hidden": true,
        "id": "0a10d3d6"
      },
      "source": [
        "## Resolução"
      ]
    },
    {
      "cell_type": "code",
      "execution_count": null,
      "id": "38f714bd",
      "metadata": {
        "hidden": true,
        "id": "38f714bd"
      },
      "outputs": [],
      "source": []
    },
    {
      "cell_type": "markdown",
      "id": "ba9b0d74",
      "metadata": {
        "heading_collapsed": true,
        "hidden": true,
        "id": "ba9b0d74"
      },
      "source": [
        "## Resposta"
      ]
    },
    {
      "cell_type": "code",
      "execution_count": null,
      "id": "aa0fe614",
      "metadata": {
        "ExecuteTime": {
          "end_time": "2022-05-06T12:06:36.061219Z",
          "start_time": "2022-05-06T12:06:32.577774Z"
        },
        "hidden": true,
        "id": "aa0fe614"
      },
      "outputs": [],
      "source": [
        "c = int(input(f'Informe o código do colaborador: '))\n",
        "n = int(input(f'Informe a quantidade de horas trabalhadas pelo colaborador: '))\n",
        "\n",
        "\n",
        "# Verifica se a quantidade de horas é \n",
        "# maior que 50\n",
        "if n > 50:\n",
        "    # calcula a quantidade de horas excedentes\n",
        "    horas_extras = n - 50\n",
        "    \n",
        "    # Calcula o valor do salario excedente\n",
        "    e = horas_extras * 20\n",
        "    \n",
        "    # Calcula o valor do salario base \n",
        "    salario_base = (n - horas_extras) * 10\n",
        "    \n",
        "else:\n",
        "    # Como Não possui horas extras, a variavel 'e'\n",
        "    # deve ser zerada\n",
        "    e = 0\n",
        "    \n",
        "    # Calcula o valor do salario base \n",
        "    salario_base = (n) * 10\n",
        "    \n",
        "    \n",
        "# Calcula o valor do salario total\n",
        "salario_total = e + salario_base\n",
        "\n",
        "print(f'O salario final do colaborado é R$ {salario_total}')"
      ]
    },
    {
      "cell_type": "markdown",
      "id": "dc3c8186",
      "metadata": {
        "heading_collapsed": true,
        "id": "dc3c8186"
      },
      "source": [
        "# 7. Desenvolva um diagrama que:"
      ]
    },
    {
      "cell_type": "markdown",
      "id": "aca08aaa",
      "metadata": {
        "hidden": true,
        "id": "aca08aaa"
      },
      "source": [
        "* Leia 4 (quatro) números;\n",
        "* Calcule o quadrado de cada um;\n",
        "* Se o valor resultante do quadrado do terceiro for >= 1000, imprima-o e o programa deve ser finalizado;\n",
        "* Caso contrário, imprima os valores lidos e seus respectivos quadrados."
      ]
    },
    {
      "cell_type": "markdown",
      "id": "686aba9f",
      "metadata": {
        "heading_collapsed": true,
        "hidden": true,
        "id": "686aba9f"
      },
      "source": [
        "## Resolução"
      ]
    },
    {
      "cell_type": "code",
      "execution_count": null,
      "id": "f80c4598",
      "metadata": {
        "hidden": true,
        "id": "f80c4598"
      },
      "outputs": [],
      "source": []
    },
    {
      "cell_type": "markdown",
      "id": "2286c0e6",
      "metadata": {
        "heading_collapsed": true,
        "hidden": true,
        "id": "2286c0e6"
      },
      "source": [
        "## Resposta"
      ]
    },
    {
      "cell_type": "code",
      "execution_count": null,
      "id": "53684add",
      "metadata": {
        "ExecuteTime": {
          "end_time": "2022-05-06T12:13:26.164785Z",
          "start_time": "2022-05-06T12:13:13.714513Z"
        },
        "hidden": true,
        "id": "53684add"
      },
      "outputs": [],
      "source": [
        "num_1 = float(input(f'Informe o primeiro valor: '))\n",
        "num_2 = float(input(f'Informe o segundo valor: '))\n",
        "num_3 = float(input(f'Informe o terceiro valor: '))\n",
        "num_4 = float(input(f'Informe o quarto valor: '))\n",
        "\n",
        "# Calcula o quadrado dos valores informados\n",
        "quad_1 = num_1 ** 2\n",
        "quad_2 = num_2 ** 2\n",
        "quad_3 = num_3 ** 2\n",
        "quad_4 = num_4 ** 2\n",
        "\n",
        "\n",
        "if quad_3 >= 1000:\n",
        "    print(f'O valor {num_3} ao quadrado é igual a {quad_3}')\n",
        "else:\n",
        "    soma = quad_1 + quad_2 + quad_3 + quad_4\n",
        "    print(f'O resolutado da soma de todos os valores informados elevados ao quadrado é {soma}')"
      ]
    },
    {
      "cell_type": "markdown",
      "id": "b470bf02",
      "metadata": {
        "heading_collapsed": true,
        "id": "b470bf02"
      },
      "source": [
        "# 8. Faça um algoritmo que leia um número inteiro e mostre uma mensagem indicando se este número é par ou ímpar, e se é positivo ou negativo. Considere valores positivos como sendo maiores ou iguais a zero"
      ]
    },
    {
      "cell_type": "markdown",
      "id": "21ad7249",
      "metadata": {
        "heading_collapsed": true,
        "hidden": true,
        "id": "21ad7249"
      },
      "source": [
        "## Resolução"
      ]
    },
    {
      "cell_type": "code",
      "execution_count": null,
      "id": "4400b729",
      "metadata": {
        "hidden": true,
        "id": "4400b729"
      },
      "outputs": [],
      "source": []
    },
    {
      "cell_type": "markdown",
      "id": "2c33faf9",
      "metadata": {
        "heading_collapsed": true,
        "hidden": true,
        "id": "2c33faf9"
      },
      "source": [
        "## Resposta"
      ]
    },
    {
      "cell_type": "code",
      "execution_count": null,
      "id": "ffb06dee",
      "metadata": {
        "ExecuteTime": {
          "end_time": "2022-05-06T12:17:21.157966Z",
          "start_time": "2022-05-06T12:17:18.537731Z"
        },
        "hidden": true,
        "id": "ffb06dee"
      },
      "outputs": [],
      "source": [
        "valor = int(input(f'Informe o valor: '))\n",
        "\n",
        "# Verifica se o valor é par\n",
        "if valor % 2 == 0:\n",
        "    # Varifica se o valor é positivo\n",
        "    if valor >= 0:\n",
        "        print(f'O valor {valor} é par e é positivo')\n",
        "    else:\n",
        "        print(f'O valor {valor} é par e é negativo')\n",
        "else:\n",
        "    if valor >= 0:\n",
        "        print(f'O valor {valor} é ímpar e é positivo')\n",
        "    else:\n",
        "        print(f'O valor {valor} é ímpar e é negativo')"
      ]
    },
    {
      "cell_type": "markdown",
      "id": "25620a10",
      "metadata": {
        "heading_collapsed": true,
        "id": "25620a10"
      },
      "source": [
        "# 9. Elabore um algoritmo que escreva na tela os números ímpares que estão entre os valores 100 (inclusive) e 201 (inclusive), todos na mesma linha e separados por espaço"
      ]
    },
    {
      "cell_type": "markdown",
      "id": "1611e473",
      "metadata": {
        "heading_collapsed": true,
        "hidden": true,
        "id": "1611e473"
      },
      "source": [
        "## Resolução"
      ]
    },
    {
      "cell_type": "code",
      "execution_count": null,
      "id": "e39af74e",
      "metadata": {
        "ExecuteTime": {
          "end_time": "2022-05-06T12:19:05.730171Z",
          "start_time": "2022-05-06T12:19:05.721567Z"
        },
        "hidden": true,
        "id": "e39af74e"
      },
      "outputs": [],
      "source": []
    },
    {
      "cell_type": "markdown",
      "id": "fa70301c",
      "metadata": {
        "heading_collapsed": true,
        "hidden": true,
        "id": "fa70301c"
      },
      "source": [
        "## Resposta"
      ]
    },
    {
      "cell_type": "code",
      "execution_count": null,
      "id": "1925da3e",
      "metadata": {
        "ExecuteTime": {
          "end_time": "2022-05-06T12:19:14.512428Z",
          "start_time": "2022-05-06T12:19:14.504417Z"
        },
        "hidden": true,
        "id": "1925da3e"
      },
      "outputs": [],
      "source": [
        "# Cria a lista de valores de 100 até 200\n",
        "for valor in range(100, 202):\n",
        "    if valor % 2 != 0:\n",
        "        print(f'{valor}', end=' ')"
      ]
    },
    {
      "cell_type": "markdown",
      "id": "266fae8e",
      "metadata": {
        "id": "266fae8e"
      },
      "source": [
        "# 10. Construa um algoritmo que leia 4 valores inteiros e positivos e:"
      ]
    },
    {
      "cell_type": "markdown",
      "id": "41c12358",
      "metadata": {
        "id": "41c12358"
      },
      "source": [
        "* Encontre o maior valor\n",
        "* Encontre o menor valor\n",
        "* Calcule a média dos números lidos"
      ]
    },
    {
      "cell_type": "markdown",
      "id": "e86ee0c9",
      "metadata": {
        "id": "e86ee0c9"
      },
      "source": [
        "## Resolução"
      ]
    },
    {
      "cell_type": "code",
      "execution_count": null,
      "id": "edd51cbf",
      "metadata": {
        "ExecuteTime": {
          "end_time": "2022-05-10T22:37:15.502359Z",
          "start_time": "2022-05-10T22:37:07.922023Z"
        },
        "id": "edd51cbf"
      },
      "outputs": [],
      "source": [
        "# V1 = 6\n",
        "# V2 = 3\n",
        "# V3 = 9\n",
        "# V4 = 7\n",
        "# Inserir os 4 valores\n",
        "v1 = int(input('Digite o primeiro valor: '))\n",
        "v2 = int(input('Digite o segundo valor: '))\n",
        "v3 = int(input('Digite o terceiro valor: '))\n",
        "v4 = int(input('Digite o quarto valor: '))\n",
        "\n",
        "# Colocar os 4 valores em uma lista\n",
        "lista = [v1, v2, v3, v4]\n",
        "\n",
        "# Utilizar a função max e min na lista\n",
        "maior = max(lista)\n",
        "menor = min(lista)\n",
        "\n",
        "# retirar a media dos valores da lista\n",
        "media = sum(lista) / len(lista)\n",
        "\n",
        "# imprimir na tela as respostas\n",
        "print(f'O maior valor é {maior}')\n",
        "print(f'O menor valor é {menor}')\n",
        "print(f'A media dos valores é {media}')"
      ]
    },
    {
      "cell_type": "code",
      "execution_count": null,
      "id": "d78169bf",
      "metadata": {
        "id": "d78169bf"
      },
      "outputs": [],
      "source": []
    },
    {
      "cell_type": "code",
      "execution_count": null,
      "id": "b3cb3699",
      "metadata": {
        "ExecuteTime": {
          "end_time": "2022-05-10T22:23:53.552044Z",
          "start_time": "2022-05-10T22:23:46.330561Z"
        },
        "id": "b3cb3699"
      },
      "outputs": [],
      "source": [
        "# recebendo os 4 valores\n",
        "v1 = int(input('Digite o primeiro valor: '))\n",
        "v2 = int(input('Digite o segundo valor: '))\n",
        "v3 = int(input('Digite o terceiro valor: '))\n",
        "v4 = int(input('Digite o quarto valor: '))\n",
        "\n",
        "# Variáveis de auxilio\n",
        "maior = 0\n",
        "menor = 1000000\n",
        "soma = 0\n",
        "\n",
        "# V1 = 6\n",
        "# V2 = 3\n",
        "# V3 = 9\n",
        "# V4 = 7\n",
        "# maior = 9\n",
        "# Encontre o maior valor\n",
        "if v1 > maior:\n",
        "    maior = v1\n",
        "    \n",
        "if v2 > maior:\n",
        "    maior = v2\n",
        "\n",
        "if v3 > maior:\n",
        "    maior = v3\n",
        "    \n",
        "if v4 > maior:\n",
        "    maior = v4\n",
        "\n",
        "# V1 = 6\n",
        "# V2 = 3\n",
        "# V3 = 9\n",
        "# V4 = 7\n",
        "# menor = 3\n",
        "# Encontre o menor valor\n",
        "if v1 < menor:\n",
        "    menor = v1\n",
        "    \n",
        "if v2 < menor:\n",
        "    menor = v2\n",
        "\n",
        "if v3 < menor:\n",
        "    menor = v3\n",
        "    \n",
        "if v4 < menor:\n",
        "    menor = v4\n",
        "\n",
        "\n",
        "# Calcule a média dos números lidos\n",
        "soma = v1 + v2 + v3 + v4\n",
        "media = soma / 4\n",
        "\n",
        "print(f'O maior valor é {maior}')\n",
        "print(f'O menor valor é {menor}')\n",
        "print(f'A media dos valores é {media}')"
      ]
    },
    {
      "cell_type": "code",
      "execution_count": null,
      "id": "6c442711",
      "metadata": {
        "id": "6c442711"
      },
      "outputs": [],
      "source": []
    },
    {
      "cell_type": "code",
      "execution_count": null,
      "id": "4f6e61c5",
      "metadata": {
        "id": "4f6e61c5"
      },
      "outputs": [],
      "source": []
    },
    {
      "cell_type": "code",
      "execution_count": null,
      "id": "6820ba88",
      "metadata": {
        "id": "6820ba88"
      },
      "outputs": [],
      "source": []
    },
    {
      "cell_type": "code",
      "execution_count": null,
      "id": "d419ff83",
      "metadata": {
        "id": "d419ff83"
      },
      "outputs": [],
      "source": []
    },
    {
      "cell_type": "code",
      "execution_count": null,
      "id": "1d353f43",
      "metadata": {
        "id": "1d353f43"
      },
      "outputs": [],
      "source": []
    },
    {
      "cell_type": "code",
      "execution_count": null,
      "id": "f374b244",
      "metadata": {
        "id": "f374b244"
      },
      "outputs": [],
      "source": []
    },
    {
      "cell_type": "code",
      "execution_count": null,
      "id": "9eeb69ec",
      "metadata": {
        "id": "9eeb69ec"
      },
      "outputs": [],
      "source": []
    },
    {
      "cell_type": "markdown",
      "id": "55320a04",
      "metadata": {
        "id": "55320a04"
      },
      "source": [
        "## Resposta"
      ]
    },
    {
      "cell_type": "markdown",
      "id": "1359cfc9",
      "metadata": {
        "heading_collapsed": true,
        "id": "1359cfc9"
      },
      "source": [
        "### Maneira complicada"
      ]
    },
    {
      "cell_type": "code",
      "execution_count": null,
      "id": "a8e13d20",
      "metadata": {
        "ExecuteTime": {
          "end_time": "2022-05-06T12:25:39.468556Z",
          "start_time": "2022-05-06T12:25:37.472084Z"
        },
        "hidden": true,
        "id": "a8e13d20"
      },
      "outputs": [],
      "source": [
        "# Recebemos todos os valores\n",
        "valor_1 = int(input(f'Informe o primeiro valor: '))\n",
        "valor_2 = int(input(f'Informe o segundo valor: '))\n",
        "valor_3 = int(input(f'Informe o terceiro valor: '))\n",
        "valor_4 = int(input(f'Informe o quarto valor: '))\n",
        "\n",
        "# Cria uma variável para receber o maior valor\n",
        "# Inicializamos com um valor pequeno para que\n",
        "# qualquer valor seja maior que ela na primeira\n",
        "# comparação\n",
        "maior = 0\n",
        "\n",
        "# Cria uma variável para receber o menor valor\n",
        "# Inicializa ela com um valor grande para que\n",
        "# qualquer valor seja menor que ela na primeira\n",
        "# comparação\n",
        "menor = 100000\n",
        "\n",
        "# calcula a soma de todos os valores\n",
        "soma = valor_1 + valor_2 + valor_3 + valor_4\n",
        "\n",
        "# calcula a média aritmética dos valores\n",
        "media = soma / 4\n",
        "\n",
        "\n",
        "# Fazemos todas as comparações para ver qual é \n",
        "# o maior valor\n",
        "if valor_1 > maior:\n",
        "    maior = valor_1\n",
        "    \n",
        "if valor_2 > maior:\n",
        "    maior = valor_2\n",
        "    \n",
        "if valor_3 > maior:\n",
        "    maior = valor_3\n",
        "    \n",
        "if valor_4 > maior:\n",
        "    maior = valor_4\n",
        "\n",
        "    \n",
        "# Fazemos todas as comparações para ver qual é \n",
        "# o menor valor\n",
        "if valor_1 < menor:\n",
        "    menor = valor_1\n",
        "    \n",
        "if valor_2 < menor:\n",
        "    menor = valor_2\n",
        "    \n",
        "if valor_3 < menor:\n",
        "    menor = valor_3\n",
        "    \n",
        "if valor_4 < menor:\n",
        "    menor = valor_4\n",
        "\n",
        "print(f'O menor valor é {menor}')\n",
        "print(f'O maior valor é {maior}')\n",
        "print(f'A media dos valores é {media}')"
      ]
    },
    {
      "cell_type": "markdown",
      "id": "03a5b8a2",
      "metadata": {
        "id": "03a5b8a2"
      },
      "source": [
        "### Maneira \"simplificada\""
      ]
    },
    {
      "cell_type": "code",
      "execution_count": null,
      "id": "d5694a85",
      "metadata": {
        "ExecuteTime": {
          "end_time": "2022-05-06T12:31:49.397778Z",
          "start_time": "2022-05-06T12:31:44.860979Z"
        },
        "id": "d5694a85"
      },
      "outputs": [],
      "source": [
        "# Cria as variáveis para maior e menor\n",
        "maior = 0\n",
        "menor = 100000\n",
        "\n",
        "# Cria a variável que receberá a soma dos valores\n",
        "soma = 0\n",
        "\n",
        "# Cria uma variável que será a quantidade de valores\n",
        "# que iremos receber do usuário\n",
        "n = 4\n",
        "\n",
        "\n",
        "# V1 = 6\n",
        "# V2 = 3\n",
        "# V3 = 9\n",
        "# V4 = 7\n",
        "# soma = 0 / 6 / 9 / 18 / 25\n",
        "# maior = 0 / 6 / 6 / 9 / 9\n",
        "# menor = 1000000 / 6 / 3 / 3 / 3\n",
        "# iteracao = 1 / 2 / 3 / 4\n",
        "for ordem in range(1, (n + 1) ):\n",
        "    valor = int(input(f'Informe o {ordem}. valor: '))\n",
        "    \n",
        "    # Faz a soma do valor digitado com a soma\n",
        "    # dos valores anteriores\n",
        "    soma = soma + valor\n",
        "    \n",
        "    # Verifica se o valor digitado é maior que \n",
        "    # o maior valor registrado\n",
        "    if valor > maior:\n",
        "        maior = valor\n",
        "    \n",
        "    # Verifica se o valor digitado é menor que \n",
        "    # o menor valor registrado\n",
        "    if valor < menor:\n",
        "        menor = valor\n",
        "\n",
        "        \n",
        "# Imprime os resultados\n",
        "print(f'O menor valor é {menor}')\n",
        "print(f'O maior valor é {maior}')\n",
        "print(f'A media dos valores é {soma / n}')"
      ]
    }
  ],
  "metadata": {
    "kernelspec": {
      "display_name": "Python 3 (ipykernel)",
      "language": "python",
      "name": "python3"
    },
    "language_info": {
      "codemirror_mode": {
        "name": "ipython",
        "version": 3
      },
      "file_extension": ".py",
      "mimetype": "text/x-python",
      "name": "python",
      "nbconvert_exporter": "python",
      "pygments_lexer": "ipython3",
      "version": "3.8.12"
    },
    "latex_envs": {
      "LaTeX_envs_menu_present": true,
      "autoclose": false,
      "autocomplete": true,
      "bibliofile": "biblio.bib",
      "cite_by": "apalike",
      "current_citInitial": 1,
      "eqLabelWithNumbers": true,
      "eqNumInitial": 1,
      "hotkeys": {
        "equation": "Ctrl-E",
        "itemize": "Ctrl-I"
      },
      "labels_anchors": false,
      "latex_user_defs": false,
      "report_style_numbering": false,
      "user_envs_cfg": false
    },
    "toc": {
      "base_numbering": 1,
      "nav_menu": {},
      "number_sections": false,
      "sideBar": true,
      "skip_h1_title": false,
      "title_cell": "Table of Contents",
      "title_sidebar": "Contents",
      "toc_cell": false,
      "toc_position": {},
      "toc_section_display": true,
      "toc_window_display": false
    },
    "colab": {
      "provenance": [],
      "collapsed_sections": [
        "06d36ed5",
        "21dd930d",
        "af23fcbf",
        "8a4dad7f",
        "265fb9af",
        "7da2aeb7",
        "a93db609",
        "0a10d3d6",
        "ba9b0d74",
        "686aba9f",
        "2286c0e6",
        "21ad7249",
        "2c33faf9",
        "1611e473",
        "fa70301c",
        "e86ee0c9",
        "55320a04",
        "1359cfc9",
        "03a5b8a2"
      ],
      "include_colab_link": true
    }
  },
  "nbformat": 4,
  "nbformat_minor": 5
}